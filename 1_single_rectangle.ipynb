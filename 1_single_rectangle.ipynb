{
 "cells": [
  {
   "cell_type": "markdown",
   "metadata": {},
   "source": [
    "Credits: Johannes Rieke"
   ]
  },
  {
   "cell_type": "code",
   "execution_count": 1,
   "metadata": {},
   "outputs": [],
   "source": [
    "import numpy as np\n",
    "import matplotlib.pyplot as plt\n",
    "import matplotlib\n",
    "%matplotlib inline"
   ]
  },
  {
   "cell_type": "code",
   "execution_count": 2,
   "metadata": {
    "collapsed": true
   },
   "outputs": [],
   "source": [
    "n_imgs = 50000\n",
    "size_img = 8\n",
    "min_size_object = 1\n",
    "max_size_object = 4\n",
    "n_objects = 1"
   ]
  },
  {
   "cell_type": "code",
   "execution_count": 3,
   "metadata": {},
   "outputs": [],
   "source": [
    "bboxes = np.zeros((n_imgs, n_objects, 4))\n",
    "imgs = np.zeros((n_imgs, size_img, size_img))"
   ]
  },
  {
   "cell_type": "code",
   "execution_count": 4,
   "metadata": {},
   "outputs": [
    {
     "data": {
      "text/plain": [
       "((50000, 8, 8), (50000, 1, 4))"
      ]
     },
     "execution_count": 4,
     "metadata": {},
     "output_type": "execute_result"
    }
   ],
   "source": [
    "for i in range(n_imgs):\n",
    "    for o in range(n_objects):\n",
    "        w, h = np.random.randint(min_size_object,\n",
    "                                 max_size_object, size=2)\n",
    "        x = np.random.randint(0, size_img - w)\n",
    "        y = np.random.randint(0, size_img - h)\n",
    "        imgs[i, x:x+w, y:y+h] = 255\n",
    "        bboxes[i, o] = [x, y, w, h]\n",
    "imgs.shape, bboxes.shape"
   ]
  },
  {
   "cell_type": "code",
   "execution_count": 5,
   "metadata": {},
   "outputs": [
    {
     "data": {
      "image/png": "[encoded data removed]",
      "text/plain": [
       "<matplotlib.figure.Figure at 0x263276f4f98>"
      ]
     },
     "metadata": {},
     "output_type": "display_data"
    }
   ],
   "source": [
    "i = 0\n",
    "plt.imshow(imgs[i].T, cmap='Greys', interpolation='none',\n",
    "           origin='lower', extent=[0, size_img, 0, size_img])\n",
    "for bbox in bboxes[i]:\n",
    "    plt.gca().add_patch(matplotlib.patches.Rectangle((bbox[0], bbox[1]), bbox[2], bbox[3], ec='r', fc='none'))"
   ]
  },
  {
   "cell_type": "code",
   "execution_count": 6,
   "metadata": {},
   "outputs": [
    {
     "data": {
      "text/plain": [
       "((50000, 64), (50000, 4))"
      ]
     },
     "execution_count": 6,
     "metadata": {},
     "output_type": "execute_result"
    }
   ],
   "source": [
    "X = imgs.reshape((n_imgs, -1))\n",
    "X = X.astype('float32') / 255\n",
    "\n",
    "y = bboxes.reshape((n_imgs, -1))\n",
    "y = y.astype('float32') / size_img\n",
    "X.shape, y.shape"
   ]
  },
  {
   "cell_type": "code",
   "execution_count": 7,
   "metadata": {
    "collapsed": true
   },
   "outputs": [],
   "source": [
    "i = int(0.8 * n_imgs)\n",
    "X_train = X[:i]\n",
    "X_test = X[i:]\n",
    "y_train = y[:i]\n",
    "y_test = y[i:]\n",
    "\n",
    "test_imgs = imgs[i:]\n",
    "test_bboxes = bboxes[i:]"
   ]
  },
  {
   "cell_type": "code",
   "execution_count": 8,
   "metadata": {},
   "outputs": [
    {
     "name": "stderr",
     "output_type": "stream",
     "text": [
      "Using TensorFlow backend.\n"
     ]
    }
   ],
   "source": [
    "from keras.models import Sequential\n",
    "from keras.layers import Dense, Activation, Dropout\n",
    "from keras.optimizers import Adam"
   ]
  },
  {
   "cell_type": "code",
   "execution_count": 9,
   "metadata": {},
   "outputs": [
    {
     "name": "stdout",
     "output_type": "stream",
     "text": [
      "_________________________________________________________________\n",
      "Layer (type)                 Output Shape              Param #   \n",
      "=================================================================\n",
      "dense_1 (Dense)              (None, 512)               33280     \n",
      "_________________________________________________________________\n",
      "dropout_1 (Dropout)          (None, 512)               0         \n",
      "_________________________________________________________________\n",
      "dense_2 (Dense)              (None, 4)                 2052      \n",
      "=================================================================\n",
      "Total params: 35,332\n",
      "Trainable params: 35,332\n",
      "Non-trainable params: 0\n",
      "_________________________________________________________________\n",
      "None\n"
     ]
    }
   ],
   "source": [
    "model = Sequential()\n",
    "model.add(Dense(512, activation='relu', input_shape=(X.shape[-1], ))) \n",
    "model.add(Dropout(0.2))\n",
    "model.add(Dense(y.shape[-1]))\n",
    "print(model.summary())\n",
    "\n",
    "model.compile(optimizer=Adam(lr=0.0001), loss='mse')"
   ]
  },
  {
   "cell_type": "code",
   "execution_count": 10,
   "metadata": {},
   "outputs": [
    {
     "name": "stdout",
     "output_type": "stream",
     "text": [
      "Train on 40000 samples, validate on 10000 samples\n",
      "Epoch 1/30\n",
      "3s - loss: 0.0359 - val_loss: 0.0101\n",
      "Epoch 2/30\n",
      "0s - loss: 0.0098 - val_loss: 0.0042\n",
      "Epoch 3/30\n",
      "0s - loss: 0.0059 - val_loss: 0.0022\n",
      "Epoch 4/30\n",
      "0s - loss: 0.0043 - val_loss: 0.0013\n",
      "Epoch 5/30\n",
      "0s - loss: 0.0034 - val_loss: 8.5386e-04\n",
      "Epoch 6/30\n",
      "0s - loss: 0.0027 - val_loss: 6.1382e-04\n",
      "Epoch 7/30\n",
      "0s - loss: 0.0023 - val_loss: 4.5784e-04\n",
      "Epoch 8/30\n",
      "0s - loss: 0.0019 - val_loss: 3.4208e-04\n",
      "Epoch 9/30\n",
      "0s - loss: 0.0017 - val_loss: 2.6380e-04\n",
      "Epoch 10/30\n",
      "0s - loss: 0.0015 - val_loss: 2.0771e-04\n",
      "Epoch 11/30\n",
      "0s - loss: 0.0013 - val_loss: 1.6295e-04\n",
      "Epoch 12/30\n",
      "0s - loss: 0.0011 - val_loss: 1.3012e-04\n",
      "Epoch 13/30\n",
      "0s - loss: 0.0010 - val_loss: 1.0476e-04\n",
      "Epoch 14/30\n",
      "0s - loss: 9.4507e-04 - val_loss: 8.8894e-05\n",
      "Epoch 15/30\n",
      "0s - loss: 8.5833e-04 - val_loss: 7.0377e-05\n",
      "Epoch 16/30\n",
      "0s - loss: 7.8299e-04 - val_loss: 5.9418e-05\n",
      "Epoch 17/30\n",
      "0s - loss: 7.3016e-04 - val_loss: 4.7371e-05\n",
      "Epoch 18/30\n",
      "0s - loss: 6.7690e-04 - val_loss: 4.3849e-05\n",
      "Epoch 19/30\n",
      "0s - loss: 6.3666e-04 - val_loss: 3.5909e-05\n",
      "Epoch 20/30\n",
      "0s - loss: 6.0081e-04 - val_loss: 3.1897e-05\n",
      "Epoch 21/30\n",
      "0s - loss: 5.5577e-04 - val_loss: 2.7572e-05\n",
      "Epoch 22/30\n",
      "0s - loss: 5.3883e-04 - val_loss: 2.5322e-05\n",
      "Epoch 23/30\n",
      "0s - loss: 5.1100e-04 - val_loss: 2.1681e-05\n",
      "Epoch 24/30\n",
      "0s - loss: 4.9032e-04 - val_loss: 2.3914e-05\n",
      "Epoch 25/30\n",
      "0s - loss: 4.6761e-04 - val_loss: 2.2903e-05\n",
      "Epoch 26/30\n",
      "0s - loss: 4.5209e-04 - val_loss: 1.9950e-05\n",
      "Epoch 27/30\n",
      "0s - loss: 4.3207e-04 - val_loss: 1.5530e-05\n",
      "Epoch 28/30\n",
      "0s - loss: 4.1598e-04 - val_loss: 1.6366e-05\n",
      "Epoch 29/30\n",
      "0s - loss: 4.0267e-04 - val_loss: 1.6408e-05\n",
      "Epoch 30/30\n",
      "0s - loss: 3.9055e-04 - val_loss: 1.5981e-05\n"
     ]
    }
   ],
   "source": [
    "history = model.fit(X_train,\n",
    "                    y_train,\n",
    "                    epochs=30,\n",
    "                    batch_size=128,\n",
    "                    validation_data=(X_test, y_test),\n",
    "                    verbose=2)"
   ]
  },
  {
   "cell_type": "code",
   "execution_count": 11,
   "metadata": {},
   "outputs": [
    {
     "data": {
      "text/plain": [
       "(10000, 1, 4)"
      ]
     },
     "execution_count": 11,
     "metadata": {},
     "output_type": "execute_result"
    }
   ],
   "source": [
    "pred_y = model.predict(X_test)\n",
    "pred_bboxes = pred_y * size_img\n",
    "pred_bboxes = pred_bboxes.reshape(len(pred_bboxes), n_objects, -1)\n",
    "pred_bboxes.shape"
   ]
  },
  {
   "cell_type": "code",
   "execution_count": 12,
   "metadata": {
    "collapsed": true
   },
   "outputs": [],
   "source": [
    "def IOU(bbox1, bbox2):\n",
    "    '''Calculate overlap between two bounding boxes [x, y, w, h] as the area of intersection over the area of unity'''\n",
    "    x1, y1, w1, h1 = bbox1[0], bbox1[1], bbox1[2], bbox1[3]\n",
    "    x2, y2, w2, h2 = bbox2[0], bbox2[1], bbox2[2], bbox2[3]\n",
    "\n",
    "    w_I = min(x1 + w1, x2 + w2) - max(x1, x2)\n",
    "    h_I = min(y1 + h1, y2 + h2) - max(y1, y2)\n",
    "    \n",
    "    if w_I <= 0 or h_I <= 0:  # no overlap\n",
    "        return 0.\n",
    "    \n",
    "    else:\n",
    "        I = w_I * h_I\n",
    "        U = w1 * h1 + w2 * h2 - I\n",
    "        return I / U"
   ]
  },
  {
   "cell_type": "code",
   "execution_count": 13,
   "metadata": {},
   "outputs": [
    {
     "data": {
      "image/png": "[encoded data removed]",
      "text/plain": [
       "<matplotlib.figure.Figure at 0x26330a48358>"
      ]
     },
     "metadata": {},
     "output_type": "display_data"
    }
   ],
   "source": [
    "# Show a few images and predicted bounding boxes from the test dataset. \n",
    "plt.figure(figsize=(12, 3))\n",
    "for i_subplot in range(1, 5):\n",
    "    plt.subplot(1, 4, i_subplot)\n",
    "    i = np.random.randint(len(test_imgs))\n",
    "    plt.imshow(test_imgs[i].T, cmap='Greys', interpolation='none', origin='lower', extent=[0, size_img, 0, size_img])\n",
    "    for pred_bbox, exp_bbox in zip(pred_bboxes[i], test_bboxes[i]):\n",
    "        plt.gca().add_patch(matplotlib.patches.Rectangle((pred_bbox[0], pred_bbox[1]), pred_bbox[2], pred_bbox[3], ec='r', fc='none'))\n",
    "        plt.annotate('IOU: {:.2f}'.format(IOU(pred_bbox, exp_bbox)), (pred_bbox[0], pred_bbox[1]+pred_bbox[3]+0.2), color='r')\n",
    "        \n",
    "# plt.savefig('plots/bw-single-rectangle_prediction.png', dpi=300)"
   ]
  },
  {
   "cell_type": "code",
   "execution_count": 14,
   "metadata": {},
   "outputs": [
    {
     "data": {
      "text/plain": [
       "0.92741921771512914"
      ]
     },
     "execution_count": 14,
     "metadata": {},
     "output_type": "execute_result"
    }
   ],
   "source": [
    "# Calculate the mean IOU (overlap) between the predicted and expected bounding boxes on the test dataset. \n",
    "summed_IOU = 0.\n",
    "for pred_bbox, test_bbox in zip(pred_bboxes.reshape(-1, 4), test_bboxes.reshape(-1, 4)):\n",
    "    summed_IOU += IOU(pred_bbox, test_bbox)\n",
    "mean_IOU = summed_IOU / len(pred_bboxes)\n",
    "mean_IOU"
   ]
  }
 ],
 "metadata": {
  "kernelspec": {
   "display_name": "Python 3",
   "language": "python",
   "name": "python3"
  },
  "language_info": {
   "codemirror_mode": {
    "name": "ipython",
    "version": 3
   },
   "file_extension": ".py",
   "mimetype": "text/x-python",
   "name": "python",
   "nbconvert_exporter": "python",
   "pygments_lexer": "ipython3",
   "version": "3.6.3"
  }
 },
 "nbformat": 4,
 "nbformat_minor": 2
}
